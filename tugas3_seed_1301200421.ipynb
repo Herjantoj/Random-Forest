{
  "cells": [
    {
      "cell_type": "code",
      "execution_count": 55,
      "metadata": {
        "id": "MCULAn12AAf-",
        "colab": {
          "base_uri": "https://localhost:8080/"
        },
        "outputId": "bec80e43-5d47-4d4f-a469-5f54cd66ed3a"
      },
      "outputs": [
        {
          "output_type": "stream",
          "name": "stdout",
          "text": [
            "Looking in indexes: https://pypi.org/simple, https://us-python.pkg.dev/colab-wheels/public/simple/\n",
            "Requirement already satisfied: pandas in /usr/local/lib/python3.8/dist-packages (1.3.5)\n",
            "Requirement already satisfied: pytz>=2017.3 in /usr/local/lib/python3.8/dist-packages (from pandas) (2022.6)\n",
            "Requirement already satisfied: numpy>=1.17.3 in /usr/local/lib/python3.8/dist-packages (from pandas) (1.21.6)\n",
            "Requirement already satisfied: python-dateutil>=2.7.3 in /usr/local/lib/python3.8/dist-packages (from pandas) (2.8.2)\n",
            "Requirement already satisfied: six>=1.5 in /usr/local/lib/python3.8/dist-packages (from python-dateutil>=2.7.3->pandas) (1.15.0)\n",
            "Looking in indexes: https://pypi.org/simple, https://us-python.pkg.dev/colab-wheels/public/simple/\n",
            "Requirement already satisfied: scikit-learn in /usr/local/lib/python3.8/dist-packages (1.0.2)\n",
            "Requirement already satisfied: numpy>=1.14.6 in /usr/local/lib/python3.8/dist-packages (from scikit-learn) (1.21.6)\n",
            "Requirement already satisfied: joblib>=0.11 in /usr/local/lib/python3.8/dist-packages (from scikit-learn) (1.2.0)\n",
            "Requirement already satisfied: threadpoolctl>=2.0.0 in /usr/local/lib/python3.8/dist-packages (from scikit-learn) (3.1.0)\n",
            "Requirement already satisfied: scipy>=1.1.0 in /usr/local/lib/python3.8/dist-packages (from scikit-learn) (1.7.3)\n"
          ]
        }
      ],
      "source": [
        "!pip install pandas\n",
        "!pip install scikit-learn"
      ]
    },
    {
      "cell_type": "code",
      "execution_count": 56,
      "metadata": {
        "id": "otFlnG-XAAgB"
      },
      "outputs": [],
      "source": [
        "## Isi nama dan NIM seluruh anggota kelompok di sini\n",
        "#   Nama    NIM\n",
        "#   Herjanto Janawisuta (1301200421)\n",
        "#   Alvin Tolopan Armando Sibuea (1301201580)\n",
        "#   M Ivan Irsanto (1301200467)\n",
        "#   \n",
        "#   \n",
        "#   "
      ]
    },
    {
      "cell_type": "code",
      "execution_count": 57,
      "metadata": {
        "id": "5immUoRCAAgC"
      },
      "outputs": [],
      "source": [
        "import numpy as np\n",
        "import pandas as pd\n",
        "from sklearn.model_selection import train_test_split\n",
        "from sklearn import tree\n"
      ]
    },
    {
      "cell_type": "markdown",
      "metadata": {
        "id": "eIH0DPr1AAgC"
      },
      "source": [
        "# Load Dataset\n",
        "Inisialisasi variable, masukan NIM di sini untuk random state.\n",
        "\n",
        "Gunakan NIM salah satu anggota kelompok.\n",
        "\n"
      ]
    },
    {
      "cell_type": "code",
      "execution_count": 58,
      "metadata": {
        "id": "fa7HFRR1AAgD"
      },
      "outputs": [],
      "source": [
        "filepath = \"https://raw.githubusercontent.com/Herjantoj/Case-Based-3/main/seeds_dataset.csv\"\n",
        "\n",
        "# Isi nim anda di sini\n",
        "nim = 1301200421"
      ]
    },
    {
      "cell_type": "markdown",
      "metadata": {
        "id": "Y4ZtJZ1WAAgE"
      },
      "source": [
        "Load dataset, cek konten data\n",
        "\n",
        "Target kelas: **Category** "
      ]
    },
    {
      "cell_type": "code",
      "execution_count": 59,
      "metadata": {
        "colab": {
          "base_uri": "https://localhost:8080/",
          "height": 363
        },
        "id": "dWgMiM63AAgE",
        "outputId": "f3295d30-7ec8-4537-dd35-1500fc8877e4"
      },
      "outputs": [
        {
          "output_type": "execute_result",
          "data": {
            "text/plain": [
              "      Area  Perimeter  Compactness  Kernel_len  Kernel_width  Assymetry  \\\n",
              "73   19.11      16.26       0.9081       6.154         3.930      2.936   \n",
              "121  18.14      16.12       0.8772       6.059         3.563      3.619   \n",
              "21   14.11      14.26       0.8722       5.520         3.168      2.688   \n",
              "35   16.12      15.00       0.9000       5.709         3.485      2.270   \n",
              "61   11.23      12.63       0.8840       4.902         2.879      2.269   \n",
              "74   16.82      15.51       0.8786       6.017         3.486      4.004   \n",
              "193  10.82      12.83       0.8256       5.180         2.630      4.853   \n",
              "148  12.70      13.71       0.8491       5.386         2.911      3.260   \n",
              "207  13.20      13.66       0.8883       5.236         3.232      8.315   \n",
              "131  18.94      16.32       0.8942       6.144         3.825      2.908   \n",
              "\n",
              "     Groove_len  Category  \n",
              "73        6.079         2  \n",
              "121       6.011         2  \n",
              "21        5.219         1  \n",
              "35        5.443         1  \n",
              "61        4.703         1  \n",
              "74        5.841         2  \n",
              "193       5.089         3  \n",
              "148       5.316         3  \n",
              "207       5.056         3  \n",
              "131       5.949         2  "
            ],
            "text/html": [
              "\n",
              "  <div id=\"df-5ad2dc0e-11c2-4d4c-84a0-ad98cba1f8ce\">\n",
              "    <div class=\"colab-df-container\">\n",
              "      <div>\n",
              "<style scoped>\n",
              "    .dataframe tbody tr th:only-of-type {\n",
              "        vertical-align: middle;\n",
              "    }\n",
              "\n",
              "    .dataframe tbody tr th {\n",
              "        vertical-align: top;\n",
              "    }\n",
              "\n",
              "    .dataframe thead th {\n",
              "        text-align: right;\n",
              "    }\n",
              "</style>\n",
              "<table border=\"1\" class=\"dataframe\">\n",
              "  <thead>\n",
              "    <tr style=\"text-align: right;\">\n",
              "      <th></th>\n",
              "      <th>Area</th>\n",
              "      <th>Perimeter</th>\n",
              "      <th>Compactness</th>\n",
              "      <th>Kernel_len</th>\n",
              "      <th>Kernel_width</th>\n",
              "      <th>Assymetry</th>\n",
              "      <th>Groove_len</th>\n",
              "      <th>Category</th>\n",
              "    </tr>\n",
              "  </thead>\n",
              "  <tbody>\n",
              "    <tr>\n",
              "      <th>73</th>\n",
              "      <td>19.11</td>\n",
              "      <td>16.26</td>\n",
              "      <td>0.9081</td>\n",
              "      <td>6.154</td>\n",
              "      <td>3.930</td>\n",
              "      <td>2.936</td>\n",
              "      <td>6.079</td>\n",
              "      <td>2</td>\n",
              "    </tr>\n",
              "    <tr>\n",
              "      <th>121</th>\n",
              "      <td>18.14</td>\n",
              "      <td>16.12</td>\n",
              "      <td>0.8772</td>\n",
              "      <td>6.059</td>\n",
              "      <td>3.563</td>\n",
              "      <td>3.619</td>\n",
              "      <td>6.011</td>\n",
              "      <td>2</td>\n",
              "    </tr>\n",
              "    <tr>\n",
              "      <th>21</th>\n",
              "      <td>14.11</td>\n",
              "      <td>14.26</td>\n",
              "      <td>0.8722</td>\n",
              "      <td>5.520</td>\n",
              "      <td>3.168</td>\n",
              "      <td>2.688</td>\n",
              "      <td>5.219</td>\n",
              "      <td>1</td>\n",
              "    </tr>\n",
              "    <tr>\n",
              "      <th>35</th>\n",
              "      <td>16.12</td>\n",
              "      <td>15.00</td>\n",
              "      <td>0.9000</td>\n",
              "      <td>5.709</td>\n",
              "      <td>3.485</td>\n",
              "      <td>2.270</td>\n",
              "      <td>5.443</td>\n",
              "      <td>1</td>\n",
              "    </tr>\n",
              "    <tr>\n",
              "      <th>61</th>\n",
              "      <td>11.23</td>\n",
              "      <td>12.63</td>\n",
              "      <td>0.8840</td>\n",
              "      <td>4.902</td>\n",
              "      <td>2.879</td>\n",
              "      <td>2.269</td>\n",
              "      <td>4.703</td>\n",
              "      <td>1</td>\n",
              "    </tr>\n",
              "    <tr>\n",
              "      <th>74</th>\n",
              "      <td>16.82</td>\n",
              "      <td>15.51</td>\n",
              "      <td>0.8786</td>\n",
              "      <td>6.017</td>\n",
              "      <td>3.486</td>\n",
              "      <td>4.004</td>\n",
              "      <td>5.841</td>\n",
              "      <td>2</td>\n",
              "    </tr>\n",
              "    <tr>\n",
              "      <th>193</th>\n",
              "      <td>10.82</td>\n",
              "      <td>12.83</td>\n",
              "      <td>0.8256</td>\n",
              "      <td>5.180</td>\n",
              "      <td>2.630</td>\n",
              "      <td>4.853</td>\n",
              "      <td>5.089</td>\n",
              "      <td>3</td>\n",
              "    </tr>\n",
              "    <tr>\n",
              "      <th>148</th>\n",
              "      <td>12.70</td>\n",
              "      <td>13.71</td>\n",
              "      <td>0.8491</td>\n",
              "      <td>5.386</td>\n",
              "      <td>2.911</td>\n",
              "      <td>3.260</td>\n",
              "      <td>5.316</td>\n",
              "      <td>3</td>\n",
              "    </tr>\n",
              "    <tr>\n",
              "      <th>207</th>\n",
              "      <td>13.20</td>\n",
              "      <td>13.66</td>\n",
              "      <td>0.8883</td>\n",
              "      <td>5.236</td>\n",
              "      <td>3.232</td>\n",
              "      <td>8.315</td>\n",
              "      <td>5.056</td>\n",
              "      <td>3</td>\n",
              "    </tr>\n",
              "    <tr>\n",
              "      <th>131</th>\n",
              "      <td>18.94</td>\n",
              "      <td>16.32</td>\n",
              "      <td>0.8942</td>\n",
              "      <td>6.144</td>\n",
              "      <td>3.825</td>\n",
              "      <td>2.908</td>\n",
              "      <td>5.949</td>\n",
              "      <td>2</td>\n",
              "    </tr>\n",
              "  </tbody>\n",
              "</table>\n",
              "</div>\n",
              "      <button class=\"colab-df-convert\" onclick=\"convertToInteractive('df-5ad2dc0e-11c2-4d4c-84a0-ad98cba1f8ce')\"\n",
              "              title=\"Convert this dataframe to an interactive table.\"\n",
              "              style=\"display:none;\">\n",
              "        \n",
              "  <svg xmlns=\"http://www.w3.org/2000/svg\" height=\"24px\"viewBox=\"0 0 24 24\"\n",
              "       width=\"24px\">\n",
              "    <path d=\"M0 0h24v24H0V0z\" fill=\"none\"/>\n",
              "    <path d=\"M18.56 5.44l.94 2.06.94-2.06 2.06-.94-2.06-.94-.94-2.06-.94 2.06-2.06.94zm-11 1L8.5 8.5l.94-2.06 2.06-.94-2.06-.94L8.5 2.5l-.94 2.06-2.06.94zm10 10l.94 2.06.94-2.06 2.06-.94-2.06-.94-.94-2.06-.94 2.06-2.06.94z\"/><path d=\"M17.41 7.96l-1.37-1.37c-.4-.4-.92-.59-1.43-.59-.52 0-1.04.2-1.43.59L10.3 9.45l-7.72 7.72c-.78.78-.78 2.05 0 2.83L4 21.41c.39.39.9.59 1.41.59.51 0 1.02-.2 1.41-.59l7.78-7.78 2.81-2.81c.8-.78.8-2.07 0-2.86zM5.41 20L4 18.59l7.72-7.72 1.47 1.35L5.41 20z\"/>\n",
              "  </svg>\n",
              "      </button>\n",
              "      \n",
              "  <style>\n",
              "    .colab-df-container {\n",
              "      display:flex;\n",
              "      flex-wrap:wrap;\n",
              "      gap: 12px;\n",
              "    }\n",
              "\n",
              "    .colab-df-convert {\n",
              "      background-color: #E8F0FE;\n",
              "      border: none;\n",
              "      border-radius: 50%;\n",
              "      cursor: pointer;\n",
              "      display: none;\n",
              "      fill: #1967D2;\n",
              "      height: 32px;\n",
              "      padding: 0 0 0 0;\n",
              "      width: 32px;\n",
              "    }\n",
              "\n",
              "    .colab-df-convert:hover {\n",
              "      background-color: #E2EBFA;\n",
              "      box-shadow: 0px 1px 2px rgba(60, 64, 67, 0.3), 0px 1px 3px 1px rgba(60, 64, 67, 0.15);\n",
              "      fill: #174EA6;\n",
              "    }\n",
              "\n",
              "    [theme=dark] .colab-df-convert {\n",
              "      background-color: #3B4455;\n",
              "      fill: #D2E3FC;\n",
              "    }\n",
              "\n",
              "    [theme=dark] .colab-df-convert:hover {\n",
              "      background-color: #434B5C;\n",
              "      box-shadow: 0px 1px 3px 1px rgba(0, 0, 0, 0.15);\n",
              "      filter: drop-shadow(0px 1px 2px rgba(0, 0, 0, 0.3));\n",
              "      fill: #FFFFFF;\n",
              "    }\n",
              "  </style>\n",
              "\n",
              "      <script>\n",
              "        const buttonEl =\n",
              "          document.querySelector('#df-5ad2dc0e-11c2-4d4c-84a0-ad98cba1f8ce button.colab-df-convert');\n",
              "        buttonEl.style.display =\n",
              "          google.colab.kernel.accessAllowed ? 'block' : 'none';\n",
              "\n",
              "        async function convertToInteractive(key) {\n",
              "          const element = document.querySelector('#df-5ad2dc0e-11c2-4d4c-84a0-ad98cba1f8ce');\n",
              "          const dataTable =\n",
              "            await google.colab.kernel.invokeFunction('convertToInteractive',\n",
              "                                                     [key], {});\n",
              "          if (!dataTable) return;\n",
              "\n",
              "          const docLinkHtml = 'Like what you see? Visit the ' +\n",
              "            '<a target=\"_blank\" href=https://colab.research.google.com/notebooks/data_table.ipynb>data table notebook</a>'\n",
              "            + ' to learn more about interactive tables.';\n",
              "          element.innerHTML = '';\n",
              "          dataTable['output_type'] = 'display_data';\n",
              "          await google.colab.output.renderOutput(dataTable, element);\n",
              "          const docLink = document.createElement('div');\n",
              "          docLink.innerHTML = docLinkHtml;\n",
              "          element.appendChild(docLink);\n",
              "        }\n",
              "      </script>\n",
              "    </div>\n",
              "  </div>\n",
              "  "
            ]
          },
          "metadata": {},
          "execution_count": 59
        }
      ],
      "source": [
        "df = pd.read_csv(filepath, sep=\"\\t\")\n",
        "df.sample(10, random_state=nim)"
      ]
    },
    {
      "cell_type": "markdown",
      "metadata": {
        "id": "lYsPjmnPAAgF"
      },
      "source": [
        "Training/test split **60/40**"
      ]
    },
    {
      "cell_type": "code",
      "execution_count": 60,
      "metadata": {
        "colab": {
          "base_uri": "https://localhost:8080/"
        },
        "id": "Q-ZXR606AAgF",
        "outputId": "92579a62-c972-421a-d038-aaeba15f2ae8"
      },
      "outputs": [
        {
          "output_type": "execute_result",
          "data": {
            "text/plain": [
              "(126, 84)"
            ]
          },
          "metadata": {},
          "execution_count": 60
        }
      ],
      "source": [
        "# X: semua kolom, Y: kolom terakhir (category)\n",
        "x = df.iloc[:, 0:-1]\n",
        "y = df.iloc[:, -1]\n",
        "x_train, x_test, y_train, y_test = train_test_split(x, y, train_size=0.6, random_state=nim)\n",
        "\n",
        "# We perform bootstrap on the train data\n",
        "# Keep test data for final accuracy testing\n",
        "len(x_train), len(x_test)"
      ]
    },
    {
      "cell_type": "code",
      "source": [
        "# Hitung jumlah fitur yang dipergunakan\n",
        "nr_features = len(x_train.columns)\n",
        "\n",
        "# Bangun decision tree menggunakan entropy, dengan batasan max_depth = nr_feature + 1\n",
        "# Note: Kedalaman tree dibatasi untuk mempermudah visualisasi\n",
        "rf_model = tree.DecisionTreeClassifier(criterion=\"entropy\", max_depth=nr_features+1)\n",
        "rf_model = rf_model.fit(x_train, y_train)"
      ],
      "metadata": {
        "id": "LzlsyZsUDJ3z"
      },
      "execution_count": 61,
      "outputs": []
    },
    {
      "cell_type": "markdown",
      "metadata": {
        "id": "zMPci64JAAgG"
      },
      "source": [
        "# Random Forest\n",
        "Build a Random Forest, consisting of 20 Decision Tree classifer, with the following steps:\n",
        "\n",
        "1. Prepare Bootstrap data (choose randomly from the *training data*, use sampling with replacement)\n",
        "2. Choose 2-4 random features/atributes for each tree\n",
        "3. Build Decision Tree classifier using step (1) and (2)\n",
        "4. Calculate OOB score within the tree only\n",
        "\n",
        "**NOTE**\n",
        "This whole exercise has been simplified.\n",
        "- Tree can be created using a library, therefore you may not be able control the feature selection on node level\n",
        "- Random features are only selected in the beginning of each tree.\n",
        "- OOB score is only calculated within its own tree instead.\n",
        "- Typically Random Forest don't use train/test split and can be validated using OOB error. We simplify this to make it easier to test.\n",
        "- You are not allowed to use a Random Forest or Bagging library.\n"
      ]
    },
    {
      "cell_type": "code",
      "execution_count": 76,
      "metadata": {
        "colab": {
          "base_uri": "https://localhost:8080/"
        },
        "id": "ujVOoQj2AAgG",
        "outputId": "64491976-50c8-4651-ff06-6a74e36f1284"
      },
      "outputs": [
        {
          "output_type": "stream",
          "name": "stdout",
          "text": [
            "Tree 1: OOB Score = 0.771\n",
            "nr of OOB Score : 0.7708333333333334\n",
            "Selected Column or Atribute : [6 2]\n",
            "Tree 2: OOB Score = 0.956\n",
            "nr of OOB Score : 0.9555555555555556\n",
            "Selected Column or Atribute : [0 6 1]\n",
            "Tree 3: OOB Score = 0.750\n",
            "nr of OOB Score : 0.75\n",
            "Selected Column or Atribute : [3 4 1]\n",
            "Tree 4: OOB Score = 0.917\n",
            "nr of OOB Score : 0.9166666666666666\n",
            "Selected Column or Atribute : [6 4 3]\n",
            "Tree 5: OOB Score = 0.804\n",
            "nr of OOB Score : 0.803921568627451\n",
            "Selected Column or Atribute : [1 3 6]\n",
            "Tree 6: OOB Score = 0.902\n",
            "nr of OOB Score : 0.9019607843137255\n",
            "Selected Column or Atribute : [3 5 1]\n",
            "Tree 7: OOB Score = 0.814\n",
            "nr of OOB Score : 0.813953488372093\n",
            "Selected Column or Atribute : [3 0 5]\n",
            "Tree 8: OOB Score = 0.760\n",
            "nr of OOB Score : 0.76\n",
            "Selected Column or Atribute : [2 3]\n",
            "Tree 9: OOB Score = 0.904\n",
            "nr of OOB Score : 0.9038461538461539\n",
            "Selected Column or Atribute : [0 6]\n",
            "Tree 10: OOB Score = 0.816\n",
            "nr of OOB Score : 0.8163265306122449\n",
            "Selected Column or Atribute : [4 2 1]\n",
            "Tree 11: OOB Score = 0.809\n",
            "nr of OOB Score : 0.8085106382978723\n",
            "Selected Column or Atribute : [2 4]\n",
            "Tree 12: OOB Score = 0.909\n",
            "nr of OOB Score : 0.9090909090909091\n",
            "Selected Column or Atribute : [6 5 1]\n",
            "Tree 13: OOB Score = 0.775\n",
            "nr of OOB Score : 0.775\n",
            "Selected Column or Atribute : [2 3 6]\n",
            "Tree 14: OOB Score = 0.814\n",
            "nr of OOB Score : 0.813953488372093\n",
            "Selected Column or Atribute : [1 0]\n",
            "Tree 15: OOB Score = 0.812\n",
            "nr of OOB Score : 0.8125\n",
            "Selected Column or Atribute : [0 1]\n",
            "Tree 16: OOB Score = 0.784\n",
            "nr of OOB Score : 0.7843137254901961\n",
            "Selected Column or Atribute : [1 0 2]\n",
            "Tree 17: OOB Score = 0.851\n",
            "nr of OOB Score : 0.851063829787234\n",
            "Selected Column or Atribute : [1 3 4]\n",
            "Tree 18: OOB Score = 0.717\n",
            "nr of OOB Score : 0.717391304347826\n",
            "Selected Column or Atribute : [2 1]\n",
            "Tree 19: OOB Score = 0.843\n",
            "nr of OOB Score : 0.8431372549019608\n",
            "Selected Column or Atribute : [1 5]\n",
            "Tree 20: OOB Score = 0.818\n",
            "nr of OOB Score : 0.8181818181818182\n",
            "Selected Column or Atribute : [0 4 3]\n"
          ]
        }
      ],
      "source": [
        "np.random.seed(nim)\n",
        "n_tree = 20\n",
        "\n",
        "forest = []\n",
        "bootstrap_columns = []\n",
        "for i in range(n_tree):\n",
        "    # 1. Bootstrapping\n",
        "    # select random rows\n",
        "    rows = np.random.choice(range(x_train.shape[0]), size=x_train.shape[0], replace=True)\n",
        "    x_bootstrap = x_train.iloc[rows, :]\n",
        "    y_bootstrap = y_train.iloc[rows]\n",
        "\n",
        "    # Out of Bag data\n",
        "    non_selected_rows = np.setdiff1d(range(x_train.shape[0]), rows)\n",
        "    x_oob = x_train.iloc[non_selected_rows, :]\n",
        "    y_oob = y_train.iloc[non_selected_rows]\n",
        "\n",
        "    # 2. Select random features (make sure to keep track the selected columns)\n",
        "    # Check for any repeated combinations\n",
        "    feature_taken = np.random.randint(2, 4)\n",
        "    cols = np.random.choice(range(x_train.shape[1]), size=feature_taken, replace=False)\n",
        "    bootstrap_columns.append(cols)\n",
        "\n",
        "    # filter based on the selected columns\n",
        "    x_bootstrap = x_bootstrap.iloc[:, cols]\n",
        "\n",
        "    # 3. Build decision tree\n",
        "    # Let it grow, no pruning\n",
        "    tree_model = rf_model\n",
        "    tree_model.fit(x_bootstrap, y_bootstrap)\n",
        "\n",
        "    # Add it to the forest\n",
        "    forest.append(tree_model)\n",
        "\n",
        "    # 4. Calculate oob score only within its own tree\n",
        "    # ....\n",
        "    oob_score = tree_model.score(x_oob.iloc[:, cols], y_oob)\n",
        "    print(f\"Tree {i+1}: OOB Score = {oob_score:.3f}\")\n",
        "    print(f\"nr of OOB Score : {oob_score}\")\n",
        "    print(f\"Selected Column or Atribute : {cols}\")\n"
      ]
    },
    {
      "cell_type": "markdown",
      "metadata": {
        "id": "axb8gocgAAgH"
      },
      "source": [
        "# Prediction and Voting\n",
        "Run prediction on x_test data for each tree\n",
        "\n",
        "Also calculate accuracy per tree here"
      ]
    },
    {
      "cell_type": "code",
      "execution_count": 81,
      "metadata": {
        "id": "0SmrXc7eAAgH",
        "colab": {
          "base_uri": "https://localhost:8080/"
        },
        "outputId": "a4c2887b-4788-4de1-82ce-f4c76b78aaca"
      },
      "outputs": [
        {
          "output_type": "stream",
          "name": "stdout",
          "text": [
            "0.8809523809523809\n",
            "0.8809523809523809\n",
            "0.8809523809523809\n",
            "0.8809523809523809\n",
            "0.8809523809523809\n",
            "0.8809523809523809\n",
            "0.8809523809523809\n",
            "0.8809523809523809\n",
            "0.8809523809523809\n",
            "0.8809523809523809\n",
            "0.8809523809523809\n",
            "0.8809523809523809\n",
            "0.8809523809523809\n",
            "0.8809523809523809\n",
            "0.8809523809523809\n",
            "0.8809523809523809\n",
            "0.8809523809523809\n",
            "0.8809523809523809\n",
            "0.8809523809523809\n",
            "0.8809523809523809\n"
          ]
        }
      ],
      "source": [
        "all_preds = []\n",
        "for i, tree_model in enumerate(forest):\n",
        "    # Each tree has different column requirements\n",
        "    # Make sure you use the correct columns for each tree\n",
        "    x_test_filtered = x_test.iloc[:, cols]\n",
        "\n",
        "    predictions = tree_model.predict(x_test_filtered)\n",
        "\n",
        "    # Might as well calculate accuracy per tree here...\n",
        "\n",
        "    # acc = np.mean(predictions == y_test)\n",
        "    acc = tree_model.score(x_test_filtered, y_test)\n",
        "    print(acc)\n",
        "    # add it to all_preds for voting later\n",
        "    all_preds.append(predictions)\n",
        "\n",
        "all_preds = np.array(all_preds)"
      ]
    },
    {
      "cell_type": "markdown",
      "metadata": {
        "id": "4OBpwPw4AAgH"
      },
      "source": [
        "### Perform voting on the predictions from the Random Forest"
      ]
    },
    {
      "cell_type": "code",
      "execution_count": 64,
      "metadata": {
        "colab": {
          "base_uri": "https://localhost:8080/"
        },
        "id": "aQpPEzDdAAgI",
        "outputId": "bce30626-53f1-4de1-8b6a-2b60b6615282"
      },
      "outputs": [
        {
          "output_type": "execute_result",
          "data": {
            "text/plain": [
              "0.8809523809523809"
            ]
          },
          "metadata": {},
          "execution_count": 64
        }
      ],
      "source": [
        "# Insert voting code here\n",
        "# ...\n",
        "# ...\n",
        "#  \n",
        "voted_predictions = np.apply_along_axis(lambda x: np.bincount(x).argmax(), axis=0, arr=all_preds)\n",
        "\n",
        "# Calculate accuracy of Test data on the Forest\n",
        "acc = np.mean(voted_predictions == y_test)\n",
        "acc\n",
        "\n"
      ]
    },
    {
      "cell_type": "code",
      "source": [
        "import matplotlib.pyplot as plt\n",
        "fig, ax = plt.subplots(figsize=(15, 10))\n",
        "tree.plot_tree(tree_model, ax=ax, feature_names=x_train.columns, class_names=y_train.unique().astype(str))\n",
        "plt.show()"
      ],
      "metadata": {
        "colab": {
          "base_uri": "https://localhost:8080/",
          "height": 575
        },
        "id": "HKaVUwzzIqKl",
        "outputId": "6837da20-ec57-4421-f502-5ea0ce94197d"
      },
      "execution_count": 65,
      "outputs": [
        {
          "output_type": "display_data",
          "data": {
            "text/plain": [
              "<Figure size 1080x720 with 1 Axes>"
            ],
            "image/png": "[encoded data removed]"
          },
          "metadata": {
            "needs_background": "light"
          }
        }
      ]
    },
    {
      "cell_type": "markdown",
      "metadata": {
        "id": "fhO8zrtiAAgI"
      },
      "source": [
        "After you're done with all this, please check the excel file and put the answers for every column there."
      ]
    }
  ],
  "metadata": {
    "kernelspec": {
      "display_name": "Python 3.10.8 ('tugas3')",
      "language": "python",
      "name": "python3"
    },
    "language_info": {
      "codemirror_mode": {
        "name": "ipython",
        "version": 3
      },
      "file_extension": ".py",
      "mimetype": "text/x-python",
      "name": "python",
      "nbconvert_exporter": "python",
      "pygments_lexer": "ipython3",
      "version": "3.10.8"
    },
    "orig_nbformat": 4,
    "vscode": {
      "interpreter": {
        "hash": "486ee4d26de12a9ebc4c044e4309648e10037d9316726c9d112e2ad4a1fad8b4"
      }
    },
    "colab": {
      "provenance": []
    }
  },
  "nbformat": 4,
  "nbformat_minor": 0
}